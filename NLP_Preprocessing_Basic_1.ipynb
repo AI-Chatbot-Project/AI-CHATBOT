{
  "nbformat": 4,
  "nbformat_minor": 0,
  "metadata": {
    "colab": {
      "provenance": []
    },
    "kernelspec": {
      "name": "python3",
      "display_name": "Python 3"
    },
    "language_info": {
      "name": "python"
    }
  },
  "cells": [
    {
      "cell_type": "markdown",
      "source": [
        "# Preprocessing: Tokenization"
      ],
      "metadata": {
        "id": "1mYc63yH8sCI"
      }
    },
    {
      "cell_type": "code",
      "execution_count": null,
      "metadata": {
        "id": "suvC1vBG7MN0"
      },
      "outputs": [],
      "source": [
        "'''\n",
        "  This is a mango\n",
        "  [1, 2, 3, 4]\n",
        "\n",
        "  {\n",
        "    'This' : 1,\n",
        "    'is' : 2\n",
        "    'a': 3,\n",
        "    'mango': 4\n",
        "  }\n",
        "'''"
      ]
    },
    {
      "cell_type": "code",
      "source": [
        "from tensorflow.keras.preprocessing.text import Tokenizer"
      ],
      "metadata": {
        "id": "fw9Gtkee8jWj"
      },
      "execution_count": 1,
      "outputs": []
    },
    {
      "cell_type": "code",
      "source": [
        "sentences = [\n",
        "    'This is a mango',\n",
        "    'How are you see this'\n",
        "]"
      ],
      "metadata": {
        "id": "kZDkQRD_8-v_"
      },
      "execution_count": 7,
      "outputs": []
    },
    {
      "cell_type": "code",
      "source": [
        "# [1 2 3 4]\n",
        "# [5 6 7 8 1]"
      ],
      "metadata": {
        "id": "fLn9VPi_9zBX"
      },
      "execution_count": null,
      "outputs": []
    },
    {
      "cell_type": "code",
      "source": [
        "tokenizer = Tokenizer(num_words= 100)"
      ],
      "metadata": {
        "id": "H4LnpiFC9B0l"
      },
      "execution_count": 8,
      "outputs": []
    },
    {
      "cell_type": "code",
      "source": [
        "tokenizer.fit_on_texts(texts = sentences)"
      ],
      "metadata": {
        "id": "fIttJsFW9Skt"
      },
      "execution_count": 9,
      "outputs": []
    },
    {
      "cell_type": "code",
      "source": [
        "tokenizer.word_index"
      ],
      "metadata": {
        "colab": {
          "base_uri": "https://localhost:8080/"
        },
        "id": "ADbixsnA9aju",
        "outputId": "22a5c163-444b-485a-ea05-2b39e06c7b68"
      },
      "execution_count": 10,
      "outputs": [
        {
          "output_type": "execute_result",
          "data": {
            "text/plain": [
              "{'this': 1,\n",
              " 'is': 2,\n",
              " 'a': 3,\n",
              " 'mango': 4,\n",
              " 'how': 5,\n",
              " 'are': 6,\n",
              " 'you': 7,\n",
              " 'see': 8}"
            ]
          },
          "metadata": {},
          "execution_count": 10
        }
      ]
    },
    {
      "cell_type": "code",
      "source": [
        "tokenizer.index_word"
      ],
      "metadata": {
        "colab": {
          "base_uri": "https://localhost:8080/"
        },
        "id": "DmqzeOFv9edN",
        "outputId": "c5ca52a2-4c75-4ca8-fe61-c02c82a6f99c"
      },
      "execution_count": 11,
      "outputs": [
        {
          "output_type": "execute_result",
          "data": {
            "text/plain": [
              "{1: 'this',\n",
              " 2: 'is',\n",
              " 3: 'a',\n",
              " 4: 'mango',\n",
              " 5: 'how',\n",
              " 6: 'are',\n",
              " 7: 'you',\n",
              " 8: 'see'}"
            ]
          },
          "metadata": {},
          "execution_count": 11
        }
      ]
    },
    {
      "cell_type": "code",
      "source": [
        "sequence = tokenizer.texts_to_sequences(texts = sentences)\n",
        "sequence"
      ],
      "metadata": {
        "colab": {
          "base_uri": "https://localhost:8080/"
        },
        "id": "1MaWKIyd9lIl",
        "outputId": "45248b28-1306-4352-e429-27119d47241e"
      },
      "execution_count": 14,
      "outputs": [
        {
          "output_type": "execute_result",
          "data": {
            "text/plain": [
              "[[1, 2, 3, 4], [5, 6, 7, 8, 1]]"
            ]
          },
          "metadata": {},
          "execution_count": 14
        }
      ]
    },
    {
      "cell_type": "code",
      "source": [
        "# (1, 10)\n",
        "# [0, 0, 0, 0, 0, 0, 1, 2, 3, 4]"
      ],
      "metadata": {
        "id": "9uWa2Ear-K28"
      },
      "execution_count": null,
      "outputs": []
    },
    {
      "cell_type": "code",
      "source": [
        "from tensorflow.keras.preprocessing.sequence import pad_sequences"
      ],
      "metadata": {
        "id": "HvSJQFQd-yuc"
      },
      "execution_count": 15,
      "outputs": []
    },
    {
      "cell_type": "code",
      "source": [
        "pad_sequences(sequence, maxlen= 10)"
      ],
      "metadata": {
        "colab": {
          "base_uri": "https://localhost:8080/"
        },
        "id": "UQPEOuBO_Ix2",
        "outputId": "753d42eb-b952-4563-a355-f485832f4d9d"
      },
      "execution_count": 17,
      "outputs": [
        {
          "output_type": "execute_result",
          "data": {
            "text/plain": [
              "array([[0, 0, 0, 0, 0, 0, 1, 2, 3, 4],\n",
              "       [0, 0, 0, 0, 0, 5, 6, 7, 8, 1]], dtype=int32)"
            ]
          },
          "metadata": {},
          "execution_count": 17
        }
      ]
    },
    {
      "cell_type": "code",
      "source": [
        "pad_sequences(sequence, maxlen= 10, padding = 'post')"
      ],
      "metadata": {
        "colab": {
          "base_uri": "https://localhost:8080/"
        },
        "id": "5Rk05dBH_OfL",
        "outputId": "60eca537-9f35-4a15-e24d-9f5f2dbb8303"
      },
      "execution_count": 18,
      "outputs": [
        {
          "output_type": "execute_result",
          "data": {
            "text/plain": [
              "array([[1, 2, 3, 4, 0, 0, 0, 0, 0, 0],\n",
              "       [5, 6, 7, 8, 1, 0, 0, 0, 0, 0]], dtype=int32)"
            ]
          },
          "metadata": {},
          "execution_count": 18
        }
      ]
    },
    {
      "cell_type": "code",
      "source": [],
      "metadata": {
        "id": "ysLw-CKz_lQz"
      },
      "execution_count": null,
      "outputs": []
    }
  ]
}